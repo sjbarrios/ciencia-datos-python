{
 "cells": [
  {
   "cell_type": "markdown",
   "metadata": {},
   "source": [
    "### Universidad Galileo\n",
    "### Ciencia de Datos en Ptyhon\n",
    "### PAPD Sección V\n",
    "### Sergio José Barrios Martínez\n",
    "### Carnet No. 19012765\n",
    "# TAREA No. 3\n",
    "\n",
    "https://github.com/sjbarrios/ciencia-datos-python/blob/master/Tarea%20No.%203/Tarea_3.ipynb\n",
    "\n",
    "\n",
    "## Funciones en Python\n",
    "\n"
   ]
  },
  {
   "cell_type": "markdown",
   "metadata": {},
   "source": [
    "Las funciones en Python son una herramienta que permite obtener valor a partir de un conjunto de parámetros. Por medio de ellas puede modelarse el comportamiento de un proceso, automatizarse el cálculo de una o varias variables e incluso ahorrar código al encapsular procedimientos que son usados repetitivamente en los programas, etc. Entre sus mayores ventajas está que permite hacer reutilizable el código y reduce el trabajo en programación subsecuente y la colaboración.\n",
    "\n",
    "## Palabra clave **DEF**\n",
    "La palabra resevada *DEF* en Python nos permite indicar la definición de una función. La definición de una función incluye tanto la definición de sus parámetros como la de su cuerpo. La definición del cuerpo de la función, como ocurre también con los controles de flujo en Python, requieren indentación.\n",
    "Los **parámetros** de una función en Python son las variables que se utilizan en el cuerpo de la función. Si no se especifica lo contrario, estos *parámetros* son locales a la función. En otras palabras, estos parámetros son variables que mantienen su valor localmente dentro de la función y por lo tanto las variables globales no pueden ser modificadas dentro de la función (a menos que se especifique como *globales*).\n",
    "\n",
    "Por ejemplo, la siguiente función que convierte una cantidad de dinero en monedas, utilizando la menor cantidad de monedas posibles, se llama \"hacer_sencillo\""
   ]
  },
  {
   "cell_type": "code",
   "execution_count": 12,
   "metadata": {},
   "outputs": [],
   "source": [
    "def hacer_sencillo(dinero, monedas): # Encabezado de Definición de la función, con parámetros de entrada \"dinero\" y \"monedas\"\n",
    "   \n",
    "    # Se define el arreglo que contendrá las cantidades de cada denominación de moneda\n",
    "    numero_monedas = len(monedas);\n",
    "    cantidades = [0]*numero_monedas;\n",
    "    \n",
    "    # Para el iterable \"monedas\" se define el iterador \"iterador_monedas\"\n",
    "    for iterador_monedas in range(numero_monedas):\n",
    "        \n",
    "        if dinero % monedas[iterador_monedas] == 0: # Se calcula si hay división entera\n",
    "            cantidades[iterador_monedas]= int(dinero/monedas[iterador_monedas]);\n",
    "            dinero = dinero - cantidades[iterador_monedas]*monedas[iterador_monedas]; # dinero restante\n",
    "        else:\n",
    "            cantidades[iterador_monedas]= int(dinero//monedas[iterador_monedas]); # Si no hay división entera\n",
    "            dinero = dinero % monedas[iterador_monedas]; #dinero restante   \n",
    "        \n",
    "        if dinero == 0:\n",
    "            break;\n",
    "            \n",
    "    print (cantidades); # Se devuelve la lista con las cantidades\n",
    "    "
   ]
  },
  {
   "cell_type": "markdown",
   "metadata": {},
   "source": [
    "En este ejemplo, si se compara con otros lenguajes de programación, se notará que no existe una instrucción que *retorne* un valor específicamente, y por lo tanto podría compararse más con un *procedimiento*. Python permite que sus funciones no retornen explícitamente un valor. En la realidad, aunque la función no contenga un **return** explícito, todas las funciones que no retornen valores siempre retornan un valor llamado **'none'**, el cual usualmente no se despliega por parte del intérprete.\n",
    "\n",
    "## Utilizar una Función\n",
    "Utilizar una función es básicamente la forma en que la función se llama a ejecución. La definición de una función explicada anteriormente no ejecuta la función propiamente, solo la define. Para usarla hay que llamarla utilizando su **nombre** seguido por los **argumentos** requeridos entre paréntesis:"
   ]
  },
  {
   "cell_type": "code",
   "execution_count": 4,
   "metadata": {},
   "outputs": [
    {
     "name": "stdout",
     "output_type": "stream",
     "text": [
      "[7, 1, 1]\n"
     ]
    }
   ],
   "source": [
    "hacer_sencillo(775,[100,50,25])"
   ]
  },
  {
   "cell_type": "markdown",
   "metadata": {},
   "source": [
    "## Parámetros por Valor y Parámetros por Referencia\n",
    "\n",
    "Los parámetros que se pasan a las funciones en los distintos lenguajes de programación normalmente tienen dos modalidades: pasar por valor o pasar por referencia. Cuando se pasan por valor, una copia del valor del argumento se utiliza dentro del cuerpo de la función para generar un resultado, más no se cambia a lo que el argumento hace referencia en la llamada; en contraste, pasar por referencia un argumento hace que si se cambia a lo que hace referencia este argumento dentro de la función, el cambio también se reflejará en donde se hace la llamada.\n",
    "\n",
    "A continuación un ejemplo:"
   ]
  },
  {
   "cell_type": "code",
   "execution_count": 12,
   "metadata": {},
   "outputs": [
    {
     "name": "stdout",
     "output_type": "stream",
     "text": [
      "Valor de lista dentro de la función:  [1, 2, 3, 4, 5, ['A', 'E', 'I', 'O', 'U']]\n",
      "Valor de la lista fuera de la función:  [1, 2, 3, 4, 5, ['A', 'E', 'I', 'O', 'U']]\n"
     ]
    }
   ],
   "source": [
    "def cambiarvalor ( lista ):\n",
    "#   \"Lista pasada por referencia\"\n",
    "   lista.append(['A','E','I','O','U']);\n",
    "   print (\"Valor de lista dentro de la función: \", lista);\n",
    "   return\n",
    "\n",
    "# Llamada a la función\n",
    "lista = [1,2,3,4,5];\n",
    "cambiarvalor( lista );\n",
    "print (\"Valor de la lista fuera de la función: \", lista);"
   ]
  },
  {
   "cell_type": "markdown",
   "metadata": {},
   "source": [
    "En este ejemplo se muestra que la *lista* que fue pasada por referencia a la función *cambiarvalor* fue modificado dentro de la función. La lista a la que hacía referencia ([1,2,3,4,5]) fue modficada dentro de la función, y el valor se reflejó tanto dentro de la función como en el lugar donde se llamó la misma.\n",
    "\n",
    "\n",
    "## Parámetros Posicionales\n",
    "\n",
    "Los parámetros posicionales en una función son todos aquellos parámetros que *deben ser incluidos en el orden correcto* cuando se llama a la función. Por ejemplo, el primer parámetro posicional siempre deberá ser el primero en la lista de parámetros cuando se hace la llamada, el segundo parámetro posicional irá en la segunda posición en la llamada y así sucesivamente. Por ejemplo, la función de variable compleja de Python *complex*:"
   ]
  },
  {
   "cell_type": "code",
   "execution_count": 13,
   "metadata": {},
   "outputs": [
    {
     "data": {
      "text/plain": [
       "(1+2j)"
      ]
     },
     "execution_count": 13,
     "metadata": {},
     "output_type": "execute_result"
    }
   ],
   "source": [
    "complex(1,2)"
   ]
  },
  {
   "cell_type": "markdown",
   "metadata": {},
   "source": [
    "La parte real del número complejo siempre irá en la primera posición en la llamada a la función, y la parte compleja ira en la segunda posición en la llamada. Los parámetros posicionales también pueden enviarse a partir de un objeto iterable, por ejemplo, una lista o una tupla. Para esto se utilizan los conocidos *argumentos estrella*, que no es más que añadir un indicador \"puntero\" a la función para indicar que es un iterable y que tome los argumento en el orden que tiene el iterable. Por ejemplo, para el caso anterior:\n"
   ]
  },
  {
   "cell_type": "code",
   "execution_count": 17,
   "metadata": {},
   "outputs": [
    {
     "name": "stdout",
     "output_type": "stream",
     "text": [
      "(1+2j)\n"
     ]
    }
   ],
   "source": [
    "lista = [1,2];\n",
    "lista_compleja = complex(*lista);\n",
    "print(lista_compleja);\n"
   ]
  },
  {
   "cell_type": "markdown",
   "metadata": {},
   "source": [
    "Es importante mencionar que estos *argumentos estrella* solo pueden usarse como el último argumento posicional, es decir, deben ir siempre en la última posición en la llamada. En resumen, los parámetros posicionales son aquellos *valores* que se deben pasar en un orden específico a la función.\n",
    "\n",
    "\n",
    "## Parámetros Nombrados\n",
    "\n",
    "Python ofrece también flexibilidad para pasar parámetros a la función. No necesariamente deben pasarse en orden. Para ello se usan los parámetros nombrados. Como su nombre lo indica, los parámetros nombrados son aquellos parámetros que se pasan por su nombre y no por su valor. Al hacer esto, no existe confusión de cuál parámetro es cuál al momento de hacer la llamada, y por lo tanto pueden pasarse en cualquier orden. Para ejemplificar esto:"
   ]
  },
  {
   "cell_type": "code",
   "execution_count": 22,
   "metadata": {},
   "outputs": [
    {
     "name": "stdout",
     "output_type": "stream",
     "text": [
      "120 dividido por 40  es: 3.0\n",
      "120 dividido por 40  es: 3.0\n",
      "120 dividido por 40  es: 3.0\n"
     ]
    }
   ],
   "source": [
    "def dividir(numero1, numero2):\n",
    "    division=numero1/numero2;\n",
    "    print(numero1,\"dividido por\",numero2,\" es:\",division)\n",
    "\n",
    "\n",
    "# Llamadas a la función \"dividir\"\n",
    "dividir(120,40); # Llamada con parámetros posicionales (valores)\n",
    "dividir(numero1=120,numero2=40); # Llamada con parámetros nombrados (nombres)\n",
    "dividir(numero2=40,numero1=120);"
   ]
  },
  {
   "cell_type": "markdown",
   "metadata": {},
   "source": [
    "En este ejemplo, las tres llamadas son equivalentes. Notar que la segunda y la tercera llamada producen el mismo resultado a pesar de tener en distinto orden (pero nombrados) sus argumentos.\n",
    "\n",
    "\n",
    "## Retorno de Valores Múltiples\n",
    "En Python también se pueden implementar funciones que retornan múltiples valores, no necesariamente solo uno. Para esto se pueden utilizar distintos mecanismos. El primero es uno de los que se utilizan comúnmente en otros lenguajes de programación, y es la creación de \"estructuras\" u \"objetos\". Esto es soportado también por Python."
   ]
  },
  {
   "cell_type": "code",
   "execution_count": 26,
   "metadata": {},
   "outputs": [
    {
     "name": "stdout",
     "output_type": "stream",
     "text": [
      "Esto es un string\n",
      "99\n"
     ]
    }
   ],
   "source": [
    "# Método de Clases\n",
    "class Ejemplo_Objeto: \n",
    "    def __init__(estructura): \n",
    "        estructura.str = \"Esto es un string\"\n",
    "        estructura.x = 99   \n",
    "\n",
    "# Función que devuelve un objeto (con múltiples valores)\n",
    "def llamada(): \n",
    "    return Ejemplo_Objeto() \n",
    "      \n",
    "# Prueba del código \n",
    "Objeto = Ejemplo_Objeto()  \n",
    "print(Objeto.str) \n",
    "print(Objeto.x) "
   ]
  },
  {
   "cell_type": "markdown",
   "metadata": {},
   "source": [
    "El otro método es utilizando un iterable. Por ejemplo, **una lista o una tupla**.\n",
    "Este caso es aún más poderoso, porque no se necesita crear previamente una estructura definida para recibir los elementos devueltos por la función, sino que se guardan en el orden devuelto por la tupla o lista:\n",
    "\n"
   ]
  },
  {
   "cell_type": "code",
   "execution_count": 30,
   "metadata": {},
   "outputs": [
    {
     "name": "stdout",
     "output_type": "stream",
     "text": [
      "Esto es un string\n",
      "99\n"
     ]
    }
   ],
   "source": [
    "# Método con Tuplas \n",
    "def llamada(): \n",
    "    string = \"Esto es un string\"\n",
    "    x   = 99\n",
    "    return (string, x);  # Retorno de una tupla\n",
    "\n",
    "# Llamada de la función\n",
    "str, x = llamada (); # Se asigna la tupla devuelta \n",
    "print(str); \n",
    "print(x); "
   ]
  },
  {
   "cell_type": "code",
   "execution_count": 32,
   "metadata": {},
   "outputs": [
    {
     "name": "stdout",
     "output_type": "stream",
     "text": [
      "['Esto es un string', 99]\n"
     ]
    }
   ],
   "source": [
    "# Método con listas \n",
    "def llamada(): \n",
    "    string = \"Esto es un string\"\n",
    "    x   = 99\n",
    "    return [string, x];  # Retorno de una lista\n",
    "\n",
    "# Llamada de la función\n",
    "lista = llamada (); # Se asigna la tupla devuelta \n",
    "print(lista);"
   ]
  },
  {
   "cell_type": "markdown",
   "metadata": {},
   "source": [
    "Finalmente, puede utilizarse un diccionario, donde los valores retornados se referencias por medio de su llave.\n"
   ]
  },
  {
   "cell_type": "code",
   "execution_count": 35,
   "metadata": {},
   "outputs": [
    {
     "name": "stdout",
     "output_type": "stream",
     "text": [
      "{'string': 'Esto es un string', 'x': 99}\n"
     ]
    }
   ],
   "source": [
    "# Método con Diccionarios\n",
    "\n",
    "def llamada(): \n",
    "    dic = dict();  \n",
    "    dic['string'] = \"Esto es un string\"\n",
    "    dic['x']   = 99\n",
    "    return dic # Se retorna un diccionario\n",
    "  \n",
    "# Llamada a la función \n",
    "dic = llamada()  \n",
    "print(dic) "
   ]
  },
  {
   "cell_type": "markdown",
   "metadata": {},
   "source": [
    "## Funciones como objetos\n",
    "\n",
    "Las funciones en Python son de hecho objetos, y aún más, también pueden ser contenidas en otros objetos. En un ejemplo anterior se creó un ejemplo con un objeto conteniendo un string y un entero. Estos objetos **también pueden contener funciones**, y pueden llamarse especificando el elemento dentro del objeto."
   ]
  },
  {
   "cell_type": "code",
   "execution_count": 9,
   "metadata": {},
   "outputs": [
    {
     "name": "stdout",
     "output_type": "stream",
     "text": [
      "99\n",
      "Esto es un string\n",
      "Es la función un objeto? True\n",
      "<bound method Clase.funcion of <__main__.Clase object at 0x00000000050D7198>>\n"
     ]
    }
   ],
   "source": [
    "# Definición de la clase que contiene a una función\n",
    "class Clase:\n",
    "    a = 99\n",
    "    def funcion(parametro):\n",
    "        print('Esto es un string')\n",
    "\n",
    "# Se crea una instancia de la Clase\n",
    "objeto = Clase()\n",
    "\n",
    "print(objeto.a)\n",
    "\n",
    "# Llamada a la función:\n",
    "objeto.funcion()\n",
    "\n",
    "# Es la función un objeto en sí mismo?\n",
    "print(\"Es la función un objeto?\",isinstance(objeto.a, object))\n",
    "\n",
    "# Cómo se referencia la función:\n",
    "print(objeto.funcion)"
   ]
  },
  {
   "cell_type": "markdown",
   "metadata": {},
   "source": [
    "\n",
    "\n",
    "## Funciones como Parámetros de otras Funciones\n",
    "\n",
    "Las funciones pueden, de hecho, ser guardadas en colecciones, y se pasadas a otras funciones como argumentos o parámetros."
   ]
  },
  {
   "cell_type": "code",
   "execution_count": 18,
   "metadata": {},
   "outputs": [
    {
     "name": "stdout",
     "output_type": "stream",
     "text": [
      "Esta es la función\n",
      "1 con identificador 85430480\n",
      "Esta es la función\n",
      "2 con identificador 85430616\n",
      "<function funcion1 at 0x00000000051790D0>\n",
      "<function funcion2 at 0x0000000005179158>\n",
      "<function funcion3 at 0x00000000051791E0>\n"
     ]
    }
   ],
   "source": [
    "# Funciones como Parámetros de otras Funciones\n",
    "def funcion1():\n",
    "    print(\"Esta es la función\")\n",
    "    return 1\n",
    "\n",
    "\n",
    "def funcion2():\n",
    "    print(\"Esta es la función\")\n",
    "    return 2\n",
    "\n",
    "\n",
    "def funcion3(funcion):\n",
    "    print(funcion(), \"con identificador\",id(funcion))\n",
    "\n",
    "# Funciones como parámetros\n",
    "funcion3(funcion1)\n",
    "funcion3(funcion2)\n",
    "\n",
    "# Funciones dentro de tuplas\n",
    "tupla = (funcion1, funcion2, funcion3)\n",
    "\n",
    "for i in tupla:\n",
    "    print(i)"
   ]
  },
  {
   "cell_type": "markdown",
   "metadata": {},
   "source": [
    "En este ejemplo, la función 3 recibe como parámetros a las funciones 1 y 2. Finalmente se agrupan las tres funciones en una colección, en este caso, una tupla, conservando todas las propiedades de un objeto iterable.\n",
    "\n",
    "\n",
    "## Funciones Anónimas (Lambda)\n",
    "\n",
    "Las funciones anónimas son aquellas funciones en Python que no tienen nombre, y se les refiere con la palabra reservada **\"lambda\"** (de allí su denominación). Estas funciones son similares a las funciones nombradas que usan la definición **def**, pero tienen algunas características que las diferencian:\n",
    "\n",
    "* Son funciones que sólo pueden contener una única expresión.\n",
    "* Pueden recibir cualquier número de parámetros (siempre y cuando la función contenga una única expresión).\n",
    "* Pueden ser utilizadas para retornar otras funciones (objetos).\n",
    "\n",
    "Las funciones *lambda* son bastante útiles cuando se requiere utilizar una función de manera rápida y sencilla, sin tener que pasar por la formalidad del **def**. Esto reduce la complejidad cuando por ejemplo se quiere pasar una función como argumento a otra función, para reutilizar código, etc.\n",
    "\n",
    "La sintaxis es muy sencilla:\n",
    "\n",
    "   **lambda** argumentos : expresion\n",
    "\n",
    "Ejemplo de función **lambda**:\n"
   ]
  },
  {
   "cell_type": "code",
   "execution_count": 4,
   "metadata": {},
   "outputs": [
    {
     "name": "stdout",
     "output_type": "stream",
     "text": [
      "4.0\n"
     ]
    }
   ],
   "source": [
    "division = lambda num1,num2 : num1/num2; # función lambda con argumentos num1, num2 y expresión num1/num2\n",
    "print(division(20,5));"
   ]
  },
  {
   "cell_type": "markdown",
   "metadata": {},
   "source": [
    "Se puede usar también eficientemente para reutilizar código, como en el siguiente ejemplo:"
   ]
  },
  {
   "cell_type": "code",
   "execution_count": 11,
   "metadata": {},
   "outputs": [
    {
     "name": "stdout",
     "output_type": "stream",
     "text": [
      "4\n",
      "8\n"
     ]
    }
   ],
   "source": [
    "def elevar_a_potencia(num): # función de alto nivel, que recibe un número como argumento\n",
    "    return lambda x : x ** num # eleva un número a cualquier potencia\n",
    "\n",
    "al_cuadrado = ejemplo(2) # La misma \"función\" elevando a distintas potencias\n",
    "al_cubo = ejemplo(3)\n",
    "\n",
    "print(al_cuadrado(2)) # 2 al cuadrado\n",
    "print(al_cubo(2)) # 2 al cubo"
   ]
  }
 ],
 "metadata": {
  "kernelspec": {
   "display_name": "Python 3",
   "language": "python",
   "name": "python3"
  },
  "language_info": {
   "codemirror_mode": {
    "name": "ipython",
    "version": 3
   },
   "file_extension": ".py",
   "mimetype": "text/x-python",
   "name": "python",
   "nbconvert_exporter": "python",
   "pygments_lexer": "ipython3",
   "version": "3.6.10"
  }
 },
 "nbformat": 4,
 "nbformat_minor": 4
}
