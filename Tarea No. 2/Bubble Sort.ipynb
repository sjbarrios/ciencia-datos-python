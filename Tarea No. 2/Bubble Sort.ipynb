{
 "cells": [
  {
   "cell_type": "code",
   "execution_count": 11,
   "metadata": {},
   "outputs": [
    {
     "name": "stdin",
     "output_type": "stream",
     "text": [
      " 3\n",
      " 6 4 1\n"
     ]
    },
    {
     "name": "stdout",
     "output_type": "stream",
     "text": [
      "Array is sorted in 3 swaps.\n",
      "First element: 1\n",
      "Last element: 6\n"
     ]
    }
   ],
   "source": [
    "import math\n",
    "import os\n",
    "import random\n",
    "import re\n",
    "import sys\n",
    "\n",
    "# Complete the countSwaps function below.\n",
    "def countSwaps(a):\n",
    "    n = len(a)\n",
    "    contador = 0\n",
    "    for i in range(n): \n",
    "        for j in range(n-1):\n",
    "            # Swap adjacent elements if they are in decreasing order\n",
    "                if (a[j] > a[j + 1]):\n",
    "                    temp = a[j+1]\n",
    "                    a[j+1] = a[j]\n",
    "                    a[j] = temp\n",
    "                    contador += 1                \n",
    "    return (contador)\n",
    "    \n",
    "\n",
    "    \n",
    "    \n",
    "\n",
    "if __name__ == '__main__':\n",
    "    n = int(input())\n",
    "\n",
    "    a = list(map(int, input().rstrip().split()))\n",
    "\n",
    "    swaps= countSwaps(a)\n",
    "    \n",
    "    print(\"Array is sorted in\",swaps,\"swaps.\")\n",
    "    print(\"First element:\",a[0])\n",
    "    print(\"Last element:\",a[n-1])\n"
   ]
  },
  {
   "cell_type": "code",
   "execution_count": null,
   "metadata": {},
   "outputs": [],
   "source": []
  }
 ],
 "metadata": {
  "kernelspec": {
   "display_name": "Python 3",
   "language": "python",
   "name": "python3"
  },
  "language_info": {
   "codemirror_mode": {
    "name": "ipython",
    "version": 3
   },
   "file_extension": ".py",
   "mimetype": "text/x-python",
   "name": "python",
   "nbconvert_exporter": "python",
   "pygments_lexer": "ipython3",
   "version": "3.6.10"
  }
 },
 "nbformat": 4,
 "nbformat_minor": 4
}
